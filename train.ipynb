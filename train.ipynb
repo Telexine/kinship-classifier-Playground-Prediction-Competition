{
 "cells": [
  {
   "cell_type": "code",
   "execution_count": 177,
   "metadata": {},
   "outputs": [],
   "source": [
    "import pathlib\n",
    "import IPython.display as display\n",
    "import scipy.io as sio \n",
    "import cv2\n",
    "from matplotlib import pyplot as plt\n",
    "import numpy as np\n",
    "%matplotlib inline \n",
    "import random\n",
    "import os\n",
    "import glob\n",
    "from itertools import product"
   ]
  },
  {
   "cell_type": "markdown",
   "metadata": {},
   "source": [
    "# Load CSV"
   ]
  },
  {
   "cell_type": "code",
   "execution_count": 122,
   "metadata": {},
   "outputs": [],
   "source": [
    "df = pd.read_csv(\"train_relationships.csv\")"
   ]
  },
  {
   "cell_type": "markdown",
   "metadata": {},
   "source": [
    "# Split Train X,y"
   ]
  },
  {
   "cell_type": "code",
   "execution_count": 207,
   "metadata": {},
   "outputs": [],
   "source": [
    "parents_path =[(\"./train/\"+row)for row in df[\"p1\"]]\n",
    "childs_path =[(\"./train/\"+row)for row in df[\"p2\"]]"
   ]
  },
  {
   "cell_type": "code",
   "execution_count": 243,
   "metadata": {},
   "outputs": [
    {
     "data": {
      "text/html": [
       "<div>\n",
       "<style scoped>\n",
       "    .dataframe tbody tr th:only-of-type {\n",
       "        vertical-align: middle;\n",
       "    }\n",
       "\n",
       "    .dataframe tbody tr th {\n",
       "        vertical-align: top;\n",
       "    }\n",
       "\n",
       "    .dataframe thead th {\n",
       "        text-align: right;\n",
       "    }\n",
       "</style>\n",
       "<table border=\"1\" class=\"dataframe\">\n",
       "  <thead>\n",
       "    <tr style=\"text-align: right;\">\n",
       "      <th></th>\n",
       "      <th>p1</th>\n",
       "      <th>p2</th>\n",
       "    </tr>\n",
       "  </thead>\n",
       "  <tbody>\n",
       "    <tr>\n",
       "      <th>121</th>\n",
       "      <td>F0038/MID1</td>\n",
       "      <td>F0038/MID4</td>\n",
       "    </tr>\n",
       "    <tr>\n",
       "      <th>122</th>\n",
       "      <td>F0038/MID1</td>\n",
       "      <td>F0038/MID6</td>\n",
       "    </tr>\n",
       "    <tr>\n",
       "      <th>123</th>\n",
       "      <td>F0038/MID2</td>\n",
       "      <td>F0038/MID4</td>\n",
       "    </tr>\n",
       "    <tr>\n",
       "      <th>124</th>\n",
       "      <td>F0038/MID3</td>\n",
       "      <td>F0038/MID6</td>\n",
       "    </tr>\n",
       "    <tr>\n",
       "      <th>125</th>\n",
       "      <td>F0038/MID3</td>\n",
       "      <td>F0038/MID5</td>\n",
       "    </tr>\n",
       "    <tr>\n",
       "      <th>126</th>\n",
       "      <td>F0038/MID5</td>\n",
       "      <td>F0038/MID6</td>\n",
       "    </tr>\n",
       "    <tr>\n",
       "      <th>127</th>\n",
       "      <td>F0039/MID1</td>\n",
       "      <td>F0039/MID4</td>\n",
       "    </tr>\n",
       "    <tr>\n",
       "      <th>128</th>\n",
       "      <td>F0039/MID1</td>\n",
       "      <td>F0039/MID3</td>\n",
       "    </tr>\n",
       "    <tr>\n",
       "      <th>129</th>\n",
       "      <td>F0040/MID1</td>\n",
       "      <td>F0040/MID3</td>\n",
       "    </tr>\n",
       "    <tr>\n",
       "      <th>130</th>\n",
       "      <td>F0041/MID1</td>\n",
       "      <td>F0041/MID6</td>\n",
       "    </tr>\n",
       "    <tr>\n",
       "      <th>131</th>\n",
       "      <td>F0041/MID1</td>\n",
       "      <td>F0041/MID7</td>\n",
       "    </tr>\n",
       "    <tr>\n",
       "      <th>132</th>\n",
       "      <td>F0041/MID3</td>\n",
       "      <td>F0041/MID4</td>\n",
       "    </tr>\n",
       "  </tbody>\n",
       "</table>\n",
       "</div>"
      ],
      "text/plain": [
       "             p1          p2\n",
       "121  F0038/MID1  F0038/MID4\n",
       "122  F0038/MID1  F0038/MID6\n",
       "123  F0038/MID2  F0038/MID4\n",
       "124  F0038/MID3  F0038/MID6\n",
       "125  F0038/MID3  F0038/MID5\n",
       "126  F0038/MID5  F0038/MID6\n",
       "127  F0039/MID1  F0039/MID4\n",
       "128  F0039/MID1  F0039/MID3\n",
       "129  F0040/MID1  F0040/MID3\n",
       "130  F0041/MID1  F0041/MID6\n",
       "131  F0041/MID1  F0041/MID7\n",
       "132  F0041/MID3  F0041/MID4"
      ]
     },
     "execution_count": 243,
     "metadata": {},
     "output_type": "execute_result"
    }
   ],
   "source": [
    "df.iloc[121:133]"
   ]
  },
  {
   "cell_type": "markdown",
   "metadata": {},
   "source": [
    "# Product n of Parent * child"
   ]
  },
  {
   "cell_type": "code",
   "execution_count": 256,
   "metadata": {},
   "outputs": [
    {
     "name": "stdout",
     "output_type": "stream",
     "text": [
      "NOT FOUND parent 4 child 0   ./train/F0039/MID1 and ./train/F0039/MID3\n",
      "NOT FOUND parent 13 child 0   ./train/F0041/MID1 and ./train/F0041/MID7\n",
      "NOT FOUND parent 0 child 2   ./train/F0041/MID3 and ./train/F0041/MID4\n",
      "NOT FOUND parent 0 child 0   ./train/F0041/MID5 and ./train/F0041/MID7\n",
      "NOT FOUND parent 0 child 5   ./train/F0051/MID5 and ./train/F0051/MID1\n",
      "NOT FOUND parent 0 child 1   ./train/F0051/MID5 and ./train/F0051/MID3\n",
      "NOT FOUND parent 0 child 4   ./train/F0051/MID5 and ./train/F0051/MID4\n",
      "NOT FOUND parent 0 child 6   ./train/F0058/MID2 and ./train/F0058/MID4\n",
      "NOT FOUND parent 0 child 1   ./train/F0058/MID2 and ./train/F0058/MID5\n",
      "NOT FOUND parent 0 child 14   ./train/F0058/MID2 and ./train/F0058/MID1\n",
      "NOT FOUND parent 8 child 0   ./train/F0070/MID1 and ./train/F0070/MID3\n",
      "NOT FOUND parent 8 child 0   ./train/F0070/MID2 and ./train/F0070/MID3\n",
      "NOT FOUND parent 0 child 2   ./train/F0070/MID3 and ./train/F0070/MID4\n",
      "NOT FOUND parent 0 child 3   ./train/F0070/MID3 and ./train/F0070/MID5\n",
      "NOT FOUND parent 0 child 1   ./train/F0070/MID6 and ./train/F0070/MID7\n",
      "NOT FOUND parent 0 child 8   ./train/F0070/MID6 and ./train/F0070/MID1\n",
      "NOT FOUND parent 0 child 6   ./train/F0081/MID3 and ./train/F0081/MID1\n",
      "NOT FOUND parent 1 child 0   ./train/F0081/MID4 and ./train/F0081/MID3\n",
      "NOT FOUND parent 0 child 1   ./train/F0081/MID5 and ./train/F0081/MID4\n",
      "NOT FOUND parent 6 child 0   ./train/F0091/MID1 and ./train/F0091/MID5\n",
      "NOT FOUND parent 4 child 0   ./train/F0091/MID2 and ./train/F0091/MID5\n",
      "NOT FOUND parent 4 child 0   ./train/F0091/MID3 and ./train/F0091/MID5\n",
      "NOT FOUND parent 3 child 0   ./train/F0091/MID4 and ./train/F0091/MID5\n",
      "NOT FOUND parent 4 child 0   ./train/F0101/MID10 and ./train/F0101/MID11\n",
      "NOT FOUND parent 0 child 0   ./train/F0129/MID1 and ./train/F0129/MID7\n",
      "NOT FOUND parent 0 child 1   ./train/F0129/MID1 and ./train/F0129/MID4\n",
      "NOT FOUND parent 0 child 0   ./train/F0129/MID1 and ./train/F0129/MID8\n",
      "NOT FOUND parent 0 child 11   ./train/F0129/MID1 and ./train/F0129/MID3\n",
      "NOT FOUND parent 2 child 0   ./train/F0129/MID5 and ./train/F0129/MID7\n",
      "NOT FOUND parent 2 child 0   ./train/F0129/MID5 and ./train/F0129/MID6\n",
      "NOT FOUND parent 2 child 0   ./train/F0129/MID5 and ./train/F0129/MID8\n",
      "NOT FOUND parent 0 child 0   ./train/F0129/MID6 and ./train/F0129/MID8\n",
      "NOT FOUND parent 0 child 0   ./train/F0129/MID6 and ./train/F0129/MID7\n",
      "NOT FOUND parent 0 child 0   ./train/F0129/MID7 and ./train/F0129/MID8\n",
      "NOT FOUND parent 11 child 0   ./train/F0130/MID1 and ./train/F0130/MID2\n",
      "NOT FOUND parent 4 child 0   ./train/F0135/MID1 and ./train/F0135/MID4\n",
      "NOT FOUND parent 0 child 1   ./train/F0138/MID4 and ./train/F0138/MID2\n",
      "NOT FOUND parent 0 child 5   ./train/F0150/MID6 and ./train/F0150/MID1\n",
      "NOT FOUND parent 0 child 5   ./train/F0150/MID6 and ./train/F0150/MID4\n",
      "NOT FOUND parent 0 child 2   ./train/F0150/MID6 and ./train/F0150/MID8\n",
      "NOT FOUND parent 0 child 5   ./train/F0150/MID6 and ./train/F0150/MID5\n",
      "NOT FOUND parent 0 child 2   ./train/F0150/MID6 and ./train/F0150/MID3\n",
      "NOT FOUND parent 0 child 9   ./train/F0161/MID4 and ./train/F0161/MID1\n",
      "NOT FOUND parent 0 child 7   ./train/F0162/MID6 and ./train/F0162/MID1\n",
      "NOT FOUND parent 5 child 0   ./train/F0203/MID1 and ./train/F0203/MID9\n",
      "NOT FOUND parent 1 child 0   ./train/F0203/MID2 and ./train/F0203/MID9\n",
      "NOT FOUND parent 2 child 0   ./train/F0203/MID5 and ./train/F0203/MID9\n",
      "NOT FOUND parent 0 child 1   ./train/F0203/MID9 and ./train/F0203/MID10\n",
      "NOT FOUND parent 20 child 0   ./train/F0206/MID1 and ./train/F0206/MID14\n",
      "NOT FOUND parent 6 child 0   ./train/F0206/MID2 and ./train/F0206/MID14\n",
      "NOT FOUND parent 0 child 2   ./train/F0206/MID5 and ./train/F0206/MID4\n",
      "NOT FOUND parent 0 child 5   ./train/F0206/MID5 and ./train/F0206/MID11\n",
      "NOT FOUND parent 0 child 11   ./train/F0206/MID5 and ./train/F0206/MID3\n",
      "NOT FOUND parent 0 child 1   ./train/F0206/MID5 and ./train/F0206/MID12\n",
      "NOT FOUND parent 0 child 5   ./train/F0206/MID6 and ./train/F0206/MID11\n",
      "NOT FOUND parent 0 child 3   ./train/F0206/MID6 and ./train/F0206/MID13\n",
      "NOT FOUND parent 0 child 20   ./train/F0206/MID6 and ./train/F0206/MID1\n",
      "NOT FOUND parent 0 child 11   ./train/F0206/MID6 and ./train/F0206/MID3\n",
      "NOT FOUND parent 0 child 1   ./train/F0206/MID6 and ./train/F0206/MID12\n",
      "NOT FOUND parent 0 child 2   ./train/F0206/MID6 and ./train/F0206/MID4\n",
      "NOT FOUND parent 0 child 2   ./train/F0215/MID4 and ./train/F0215/MID8\n",
      "NOT FOUND parent 0 child 9   ./train/F0215/MID4 and ./train/F0215/MID3\n",
      "NOT FOUND parent 0 child 11   ./train/F0225/MID3 and ./train/F0225/MID1\n",
      "NOT FOUND parent 0 child 9   ./train/F0225/MID3 and ./train/F0225/MID2\n",
      "NOT FOUND parent 4 child 0   ./train/F0228/MID1 and ./train/F0228/MID3\n",
      "NOT FOUND parent 4 child 0   ./train/F0228/MID2 and ./train/F0228/MID3\n",
      "NOT FOUND parent 0 child 2   ./train/F0228/MID3 and ./train/F0228/MID4\n",
      "NOT FOUND parent 0 child 7   ./train/F0231/MID13 and ./train/F0231/MID10\n",
      "NOT FOUND parent 0 child 1   ./train/F0231/MID2 and ./train/F0231/MID5\n",
      "NOT FOUND parent 0 child 11   ./train/F0231/MID2 and ./train/F0231/MID4\n",
      "NOT FOUND parent 0 child 7   ./train/F0231/MID2 and ./train/F0231/MID6\n",
      "NOT FOUND parent 0 child 2   ./train/F0231/MID2 and ./train/F0231/MID11\n",
      "NOT FOUND parent 0 child 6   ./train/F0231/MID2 and ./train/F0231/MID9\n",
      "NOT FOUND parent 6 child 0   ./train/F0238/MID1 and ./train/F0238/MID8\n",
      "NOT FOUND parent 1 child 0   ./train/F0238/MID3 and ./train/F0238/MID8\n",
      "NOT FOUND parent 1 child 0   ./train/F0238/MID3 and ./train/F0238/MID7\n",
      "NOT FOUND parent 1 child 0   ./train/F0238/MID5 and ./train/F0238/MID7\n",
      "NOT FOUND parent 1 child 0   ./train/F0238/MID5 and ./train/F0238/MID8\n",
      "NOT FOUND parent 1 child 0   ./train/F0238/MID6 and ./train/F0238/MID8\n",
      "NOT FOUND parent 1 child 0   ./train/F0238/MID6 and ./train/F0238/MID7\n",
      "NOT FOUND parent 0 child 0   ./train/F0238/MID7 and ./train/F0238/MID8\n",
      "NOT FOUND parent 9 child 0   ./train/F0241/MID1 and ./train/F0241/MID4\n",
      "NOT FOUND parent 9 child 0   ./train/F0244/MID1 and ./train/F0244/MID7\n",
      "NOT FOUND parent 0 child 2   ./train/F0244/MID4 and ./train/F0244/MID5\n",
      "NOT FOUND parent 4 child 0   ./train/F0253/MID2 and ./train/F0253/MID4\n",
      "NOT FOUND parent 1 child 0   ./train/F0253/MID3 and ./train/F0253/MID4\n",
      "NOT FOUND parent 0 child 2   ./train/F0254/MID6 and ./train/F0254/MID4\n",
      "NOT FOUND parent 5 child 0   ./train/F0262/MID2 and ./train/F0262/MID7\n",
      "NOT FOUND parent 3 child 0   ./train/F0262/MID3 and ./train/F0262/MID7\n",
      "NOT FOUND parent 5 child 0   ./train/F0262/MID4 and ./train/F0262/MID7\n",
      "NOT FOUND parent 6 child 0   ./train/F0262/MID5 and ./train/F0262/MID7\n",
      "NOT FOUND parent 2 child 0   ./train/F0264/MID1 and ./train/F0264/MID5\n",
      "NOT FOUND parent 1 child 0   ./train/F0264/MID10 and ./train/F0264/MID5\n",
      "NOT FOUND parent 1 child 0   ./train/F0264/MID9 and ./train/F0264/MID5\n",
      "NOT FOUND parent 5 child 0   ./train/F0275/MID2 and ./train/F0275/MID3\n",
      "NOT FOUND parent 18 child 0   ./train/F0299/MID1 and ./train/F0299/MID4\n",
      "NOT FOUND parent 18 child 0   ./train/F0299/MID2 and ./train/F0299/MID4\n",
      "NOT FOUND parent 4 child 0   ./train/F0299/MID3 and ./train/F0299/MID4\n",
      "NOT FOUND parent 0 child 6   ./train/F0299/MID4 and ./train/F0299/MID5\n",
      "NOT FOUND parent 0 child 28   ./train/F0303/MID7 and ./train/F0303/MID1\n",
      "NOT FOUND parent 0 child 3   ./train/F0303/MID9 and ./train/F0303/MID8\n",
      "NOT FOUND parent 0 child 28   ./train/F0303/MID9 and ./train/F0303/MID1\n",
      "NOT FOUND parent 7 child 0   ./train/F0309/MID2 and ./train/F0309/MID4\n",
      "NOT FOUND parent 1 child 0   ./train/F0309/MID3 and ./train/F0309/MID4\n",
      "NOT FOUND parent 0 child 2   ./train/F0309/MID4 and ./train/F0309/MID5\n",
      "NOT FOUND parent 5 child 0   ./train/F0309/MID6 and ./train/F0309/MID4\n",
      "NOT FOUND parent 10 child 0   ./train/F0363/MID1 and ./train/F0363/MID4\n",
      "NOT FOUND parent 4 child 0   ./train/F0363/MID2 and ./train/F0363/MID4\n",
      "NOT FOUND parent 3 child 0   ./train/F0363/MID3 and ./train/F0363/MID4\n",
      "NOT FOUND parent 0 child 2   ./train/F0363/MID4 and ./train/F0363/MID5\n",
      "NOT FOUND parent 4 child 0   ./train/F0363/MID7 and ./train/F0363/MID4\n",
      "NOT FOUND parent 2 child 0   ./train/F0393/MID1 and ./train/F0393/MID3\n",
      "NOT FOUND parent 2 child 0   ./train/F0393/MID1 and ./train/F0393/MID6\n",
      "NOT FOUND parent 6 child 0   ./train/F0393/MID2 and ./train/F0393/MID6\n",
      "NOT FOUND parent 1 child 0   ./train/F0393/MID4 and ./train/F0393/MID6\n",
      "NOT FOUND parent 1 child 0   ./train/F0393/MID5 and ./train/F0393/MID6\n",
      "NOT FOUND parent 6 child 0   ./train/F0413/MID1 and ./train/F0413/MID4\n",
      "NOT FOUND parent 1 child 0   ./train/F0416/MID6 and ./train/F0416/MID4\n",
      "NOT FOUND parent 0 child 1   ./train/F0423/MID6 and ./train/F0423/MID7\n",
      "NOT FOUND parent 19 child 0   ./train/F0426/MID1 and ./train/F0426/MID6\n",
      "NOT FOUND parent 3 child 0   ./train/F0426/MID4 and ./train/F0426/MID6\n",
      "NOT FOUND parent 1 child 0   ./train/F0426/MID5 and ./train/F0426/MID6\n",
      "NOT FOUND parent 0 child 5   ./train/F0438/MID4 and ./train/F0438/MID6\n",
      "NOT FOUND parent 0 child 4   ./train/F0438/MID4 and ./train/F0438/MID7\n",
      "NOT FOUND parent 0 child 15   ./train/F0438/MID4 and ./train/F0438/MID1\n",
      "NOT FOUND parent 0 child 14   ./train/F0438/MID4 and ./train/F0438/MID3\n",
      "NOT FOUND parent 0 child 14   ./train/F0438/MID4 and ./train/F0438/MID2\n",
      "NOT FOUND parent 18 child 0   ./train/F0439/MID1 and ./train/F0439/MID8\n",
      "NOT FOUND parent 5 child 0   ./train/F0439/MID3 and ./train/F0439/MID8\n",
      "NOT FOUND parent 6 child 0   ./train/F0439/MID4 and ./train/F0439/MID8\n",
      "NOT FOUND parent 1 child 0   ./train/F0439/MID7 and ./train/F0439/MID8\n",
      "NOT FOUND parent 0 child 1   ./train/F0439/MID8 and ./train/F0439/MID9\n",
      "NOT FOUND parent 8 child 0   ./train/F0446/MID1 and ./train/F0446/MID6\n",
      "NOT FOUND parent 5 child 0   ./train/F0446/MID2 and ./train/F0446/MID6\n",
      "NOT FOUND parent 3 child 0   ./train/F0446/MID3 and ./train/F0446/MID6\n",
      "NOT FOUND parent 3 child 0   ./train/F0446/MID4 and ./train/F0446/MID6\n",
      "NOT FOUND parent 2 child 0   ./train/F0446/MID5 and ./train/F0446/MID6\n",
      "NOT FOUND parent 5 child 0   ./train/F0452/MID1 and ./train/F0452/MID4\n",
      "NOT FOUND parent 3 child 0   ./train/F0452/MID2 and ./train/F0452/MID4\n"
     ]
    },
    {
     "name": "stdout",
     "output_type": "stream",
     "text": [
      "NOT FOUND parent 14 child 0   ./train/F0460/MID5 and ./train/F0460/MID8\n",
      "NOT FOUND parent 4 child 0   ./train/F0460/MID6 and ./train/F0460/MID8\n",
      "NOT FOUND parent 6 child 0   ./train/F0460/MID7 and ./train/F0460/MID8\n",
      "NOT FOUND parent 0 child 7   ./train/F0460/MID8 and ./train/F0460/MID1\n",
      "NOT FOUND parent 5 child 0   ./train/F0482/MID1 and ./train/F0482/MID4\n",
      "NOT FOUND parent 1 child 0   ./train/F0482/MID3 and ./train/F0482/MID4\n",
      "NOT FOUND parent 7 child 0   ./train/F0489/MID2 and ./train/F0489/MID3\n",
      "NOT FOUND parent 1 child 0   ./train/F0489/MID4 and ./train/F0489/MID3\n",
      "NOT FOUND parent 15 child 0   ./train/F0498/MID1 and ./train/F0498/MID3\n",
      "NOT FOUND parent 0 child 2   ./train/F0498/MID3 and ./train/F0498/MID4\n",
      "NOT FOUND parent 0 child 15   ./train/F0498/MID5 and ./train/F0498/MID1\n",
      "NOT FOUND parent 0 child 0   ./train/F0498/MID5 and ./train/F0498/MID3\n",
      "NOT FOUND parent 0 child 2   ./train/F0498/MID5 and ./train/F0498/MID4\n",
      "NOT FOUND parent 2 child 0   ./train/F0498/MID6 and ./train/F0498/MID3\n",
      "NOT FOUND parent 6 child 0   ./train/F0524/MID1 and ./train/F0524/MID4\n",
      "NOT FOUND parent 6 child 0   ./train/F0524/MID3 and ./train/F0524/MID4\n",
      "NOT FOUND parent 13 child 0   ./train/F0548/MID1 and ./train/F0548/MID4\n",
      "NOT FOUND parent 10 child 0   ./train/F0548/MID2 and ./train/F0548/MID4\n",
      "NOT FOUND parent 6 child 0   ./train/F0548/MID3 and ./train/F0548/MID4\n",
      "NOT FOUND parent 5 child 0   ./train/F0574/MID1 and ./train/F0574/MID3\n",
      "NOT FOUND parent 7 child 0   ./train/F0574/MID2 and ./train/F0574/MID3\n",
      "NOT FOUND parent 0 child 2   ./train/F0592/MID5 and ./train/F0592/MID3\n",
      "NOT FOUND parent 0 child 4   ./train/F0592/MID5 and ./train/F0592/MID2\n",
      "NOT FOUND parent 43 child 0   ./train/F0601/MID20 and ./train/F0601/MID38\n",
      "NOT FOUND parent 95 child 0   ./train/F0601/MID6 and ./train/F0601/MID38\n",
      "NOT FOUND parent 9 child 0   ./train/F0625/MID1 and ./train/F0625/MID5\n",
      "NOT FOUND parent 9 child 0   ./train/F0625/MID1 and ./train/F0625/MID6\n",
      "NOT FOUND parent 0 child 0   ./train/F0625/MID5 and ./train/F0625/MID6\n",
      "NOT FOUND parent 12 child 0   ./train/F0658/MID1 and ./train/F0658/MID8\n",
      "NOT FOUND parent 8 child 0   ./train/F0658/MID2 and ./train/F0658/MID8\n",
      "NOT FOUND parent 3 child 0   ./train/F0658/MID3 and ./train/F0658/MID8\n",
      "NOT FOUND parent 0 child 12   ./train/F0658/MID4 and ./train/F0658/MID1\n",
      "NOT FOUND parent 0 child 2   ./train/F0658/MID4 and ./train/F0658/MID7\n",
      "NOT FOUND parent 1 child 0   ./train/F0658/MID5 and ./train/F0658/MID8\n",
      "NOT FOUND parent 2 child 0   ./train/F0658/MID7 and ./train/F0658/MID8\n",
      "NOT FOUND parent 0 child 1   ./train/F0658/MID8 and ./train/F0658/MID6\n",
      "NOT FOUND parent 6 child 0   ./train/F0670/MID1 and ./train/F0670/MID3\n",
      "NOT FOUND parent 7 child 0   ./train/F0670/MID2 and ./train/F0670/MID3\n",
      "NOT FOUND parent 7 child 0   ./train/F0678/MID1 and ./train/F0678/MID3\n",
      "NOT FOUND parent 3 child 0   ./train/F0678/MID2 and ./train/F0678/MID3\n",
      "NOT FOUND parent 11 child 0   ./train/F0687/MID1 and ./train/F0687/MID3\n",
      "NOT FOUND parent 0 child 7   ./train/F0691/MID4 and ./train/F0691/MID2\n",
      "NOT FOUND parent 0 child 6   ./train/F0691/MID4 and ./train/F0691/MID1\n",
      "NOT FOUND parent 16 child 0   ./train/F0708/MID1 and ./train/F0708/MID4\n",
      "NOT FOUND parent 5 child 0   ./train/F0708/MID5 and ./train/F0708/MID4\n",
      "NOT FOUND parent 7 child 0   ./train/F0708/MID6 and ./train/F0708/MID4\n",
      "NOT FOUND parent 7 child 0   ./train/F0717/MID1 and ./train/F0717/MID7\n",
      "NOT FOUND parent 2 child 0   ./train/F0717/MID6 and ./train/F0717/MID7\n",
      "NOT FOUND parent 0 child 13   ./train/F0739/MID6 and ./train/F0739/MID1\n",
      "NOT FOUND parent 0 child 6   ./train/F0739/MID6 and ./train/F0739/MID3\n",
      "NOT FOUND parent 0 child 3   ./train/F0739/MID6 and ./train/F0739/MID2\n",
      "NOT FOUND parent 2 child 0   ./train/F0744/MID1 and ./train/F0744/MID3\n",
      "NOT FOUND parent 3 child 0   ./train/F0744/MID2 and ./train/F0744/MID4\n",
      "NOT FOUND parent 0 child 21   ./train/F0754/MID9 and ./train/F0754/MID4\n",
      "NOT FOUND parent 4 child 0   ./train/F0768/MID1 and ./train/F0768/MID5\n",
      "NOT FOUND parent 0 child 2   ./train/F0768/MID5 and ./train/F0768/MID6\n",
      "NOT FOUND parent 4 child 0   ./train/F0791/MID1 and ./train/F0791/MID7\n",
      "NOT FOUND parent 3 child 0   ./train/F0791/MID4 and ./train/F0791/MID7\n",
      "NOT FOUND parent 3 child 0   ./train/F0791/MID5 and ./train/F0791/MID7\n",
      "NOT FOUND parent 1 child 0   ./train/F0791/MID6 and ./train/F0791/MID7\n",
      "NOT FOUND parent 2 child 0   ./train/F0801/MID1 and ./train/F0801/MID4\n",
      "NOT FOUND parent 4 child 0   ./train/F0801/MID2 and ./train/F0801/MID4\n",
      "NOT FOUND parent 0 child 1   ./train/F0801/MID4 and ./train/F0801/MID5\n",
      "NOT FOUND parent 7 child 0   ./train/F0809/MID1 and ./train/F0809/MID4\n",
      "NOT FOUND parent 2 child 0   ./train/F0809/MID3 and ./train/F0809/MID4\n",
      "NOT FOUND parent 2 child 0   ./train/F0809/MID5 and ./train/F0809/MID4\n",
      "NOT FOUND parent 0 child 0   ./train/F0809/MID6 and ./train/F0809/MID4\n",
      "NOT FOUND parent 0 child 7   ./train/F0809/MID6 and ./train/F0809/MID1\n",
      "NOT FOUND parent 0 child 2   ./train/F0809/MID6 and ./train/F0809/MID3\n",
      "NOT FOUND parent 6 child 0   ./train/F0818/MID1 and ./train/F0818/MID8\n",
      "NOT FOUND parent 6 child 0   ./train/F0818/MID1 and ./train/F0818/MID9\n",
      "NOT FOUND parent 1 child 0   ./train/F0818/MID3 and ./train/F0818/MID8\n",
      "NOT FOUND parent 1 child 0   ./train/F0818/MID3 and ./train/F0818/MID9\n",
      "NOT FOUND parent 1 child 0   ./train/F0818/MID4 and ./train/F0818/MID9\n",
      "NOT FOUND parent 0 child 0   ./train/F0818/MID8 and ./train/F0818/MID9\n",
      "NOT FOUND parent 3 child 0   ./train/F0825/MID2 and ./train/F0825/MID8\n",
      "NOT FOUND parent 3 child 0   ./train/F0825/MID3 and ./train/F0825/MID8\n",
      "NOT FOUND parent 3 child 0   ./train/F0825/MID3 and ./train/F0825/MID7\n",
      "NOT FOUND parent 2 child 0   ./train/F0825/MID4 and ./train/F0825/MID8\n",
      "NOT FOUND parent 2 child 0   ./train/F0825/MID4 and ./train/F0825/MID7\n",
      "NOT FOUND parent 2 child 0   ./train/F0825/MID5 and ./train/F0825/MID8\n",
      "NOT FOUND parent 2 child 0   ./train/F0825/MID5 and ./train/F0825/MID7\n",
      "NOT FOUND parent 2 child 0   ./train/F0825/MID6 and ./train/F0825/MID8\n",
      "NOT FOUND parent 2 child 0   ./train/F0825/MID6 and ./train/F0825/MID7\n",
      "NOT FOUND parent 0 child 0   ./train/F0825/MID7 and ./train/F0825/MID8\n",
      "NOT FOUND parent 0 child 3   ./train/F0836/MID3 and ./train/F0836/MID2\n",
      "NOT FOUND parent 1 child 0   ./train/F0863/MID3 and ./train/F0863/MID4\n",
      "NOT FOUND parent 8 child 0   ./train/F0897/MID1 and ./train/F0897/MID7\n",
      "NOT FOUND parent 8 child 0   ./train/F0897/MID1 and ./train/F0897/MID9\n",
      "NOT FOUND parent 1 child 0   ./train/F0897/MID3 and ./train/F0897/MID9\n",
      "NOT FOUND parent 2 child 0   ./train/F0897/MID4 and ./train/F0897/MID9\n",
      "NOT FOUND parent 8 child 0   ./train/F0908/MID1 and ./train/F0908/MID5\n",
      "NOT FOUND parent 5 child 0   ./train/F0908/MID2 and ./train/F0908/MID5\n",
      "NOT FOUND parent 6 child 0   ./train/F0908/MID3 and ./train/F0908/MID5\n",
      "NOT FOUND parent 3 child 0   ./train/F0908/MID4 and ./train/F0908/MID5\n",
      "NOT FOUND parent 3 child 0   ./train/F0965/MID7 and ./train/F0965/MID9\n",
      "NOT FOUND parent 2 child 0   ./train/F0973/MID3 and ./train/F0973/MID4\n",
      "165179 165179\n"
     ]
    }
   ],
   "source": [
    "dataset_path=[]\n",
    "trainX=[]\n",
    "trainY=[]\n",
    "#np.random.shuffle(X)\n",
    "for  x,y  in zip(parents_path,childs_path):\n",
    "    parents = [ \".\\\\\"+str(filename) for filename  in pathlib.Path(x).glob('*.jpg')]\n",
    "    childs = [ \".\\\\\"+str(filename) for filename  in pathlib.Path(y).glob('*.jpg')]\n",
    "    family = list(product(parents,childs))\n",
    "    if len(parents)==0 or len(childs)==0:\n",
    "        print(\"NOT FOUND parent {0} child {1}   {2} and {3}\".format(len(parents),len(childs),str(x),str(y)))\n",
    "        continue\n",
    "        # data set link broken\n",
    "    parent , child = zip(*family)\n",
    "    \n",
    "    #print(\"\\n\")\n",
    "    trainX.extend(parent)\n",
    "    trainY.extend(child)\n",
    "print(len(trainX), len(trainY))"
   ]
  },
  {
   "cell_type": "markdown",
   "metadata": {},
   "source": [
    "# Shuffle Dataset"
   ]
  },
  {
   "cell_type": "code",
   "execution_count": 267,
   "metadata": {},
   "outputs": [
    {
     "name": "stdout",
     "output_type": "stream",
     "text": [
      "['.\\\\train\\\\F0002\\\\MID1\\\\P00012_face2.jpg', '.\\\\train\\\\F0002\\\\MID3\\\\P00017_face1.jpg']\n",
      "['.\\\\train\\\\F0601\\\\MID19\\\\P11988_face2.jpg', '.\\\\train\\\\F0601\\\\MID6\\\\P06312_face1.jpg']\n"
     ]
    }
   ],
   "source": [
    "temp = list(zip(trainX, trainY))\n",
    "print([i for i in temp[30]])\n",
    "np.random.shuffle(temp)\n",
    "print([i for i in temp[30]])\n",
    "trainX,trainY =zip(*temp)\n"
   ]
  },
  {
   "cell_type": "code",
   "execution_count": 162,
   "metadata": {
    "scrolled": true
   },
   "outputs": [
    {
     "name": "stdout",
     "output_type": "stream",
     "text": [
      "[]\n",
      "\n",
      "\n",
      "\n",
      "\n",
      "['train\\\\F0002\\\\MID3\\\\P00009_face1.jpg', 'train\\\\F0002\\\\MID3\\\\P00010_face1.jpg', 'train\\\\F0002\\\\MID3\\\\P00011_face3.jpg', 'train\\\\F0002\\\\MID3\\\\P00013_face3.jpg', 'train\\\\F0002\\\\MID3\\\\P00014_face1.jpg', 'train\\\\F0002\\\\MID3\\\\P00015_face1.jpg', 'train\\\\F0002\\\\MID3\\\\P00017_face1.jpg', 'train\\\\F0002\\\\MID3\\\\P00018_face2.jpg']\n",
      "\n",
      "\n",
      "dddddd\n",
      "\n",
      "[]\n",
      "\n",
      "\n",
      "\n",
      "\n",
      "['train\\\\F0002\\\\MID3\\\\P00009_face1.jpg', 'train\\\\F0002\\\\MID3\\\\P00010_face1.jpg', 'train\\\\F0002\\\\MID3\\\\P00011_face3.jpg', 'train\\\\F0002\\\\MID3\\\\P00013_face3.jpg', 'train\\\\F0002\\\\MID3\\\\P00014_face1.jpg', 'train\\\\F0002\\\\MID3\\\\P00015_face1.jpg', 'train\\\\F0002\\\\MID3\\\\P00017_face1.jpg', 'train\\\\F0002\\\\MID3\\\\P00018_face2.jpg']\n",
      "\n",
      "\n",
      "dddddd\n",
      "\n"
     ]
    }
   ],
   "source": [
    "for col in df[\"p1\"]:\n",
    " \n",
    "    parent = [ str(filename) for filename  in pathlib.Path(\"./train/\"+col).glob('*.jpg')]\n",
    "    print(parent)\n",
    "    print(\"\\n\\n\\n\")\n",
    "    for c in df[\"p2\"]:\n",
    "        child = [ str(filename) for filename  in pathlib.Path(\"./train/\"+c).glob('*.jpg')]\n",
    "        print(child)\n",
    "        break\n",
    "    print(\"\\n\\ndddddd\\n\")"
   ]
  },
  {
   "cell_type": "markdown",
   "metadata": {},
   "source": [
    "# Random Sample"
   ]
  },
  {
   "cell_type": "code",
   "execution_count": 94,
   "metadata": {},
   "outputs": [
    {
     "data": {
      "image/jpeg": "[encoded data removed]",
      "text/plain": [
       "<IPython.core.display.Image object>"
      ]
     },
     "metadata": {},
     "output_type": "display_data"
    },
    {
     "name": "stdout",
     "output_type": "stream",
     "text": [
      "train\\F0070\\MID1\\P00709_face3.jpg\n"
     ]
    }
   ],
   "source": [
    "for n in range(1):\n",
    "  image_path = random.choice(trainX)\n",
    "  img_parent = [ str(filename) for filename  in pathlib.Path(image_path).glob('*.jpg')][0]\n",
    "  display.display(display.Image(img_parent ))\n",
    "  print(img_parent)\n"
   ]
  },
  {
   "cell_type": "code",
   "execution_count": 92,
   "metadata": {},
   "outputs": [],
   "source": [
    "def preprocess_image(image):\n",
    "  image = tf.image.decode_jpeg(image, channels=3)\n",
    "  image = tf.image.resize_images(image, [192, 192])\n",
    "  image /= 255.0  # normalize to [0,1] range\n",
    "\n",
    "  return image\n",
    "def load_and_preprocess_image(path):\n",
    "  image = tf.read_file(path)\n",
    "  return preprocess_image(image)"
   ]
  },
  {
   "cell_type": "code",
   "execution_count": 113,
   "metadata": {},
   "outputs": [
    {
     "data": {
      "text/plain": [
       "'1.9.0'"
      ]
     },
     "execution_count": 113,
     "metadata": {},
     "output_type": "execute_result"
    }
   ],
   "source": [
    "import tensorflow as tf\n",
    "from tensorflow.keras import layers\n",
    "tf.__version__"
   ]
  },
  {
   "cell_type": "code",
   "execution_count": 110,
   "metadata": {},
   "outputs": [],
   "source": [
    "image_paths_ds = tf.data.Dataset.from_tensor_slices(trainX)\n",
    "label_paths_ds = tf.data.Dataset.from_tensor_slices(trainY)\n",
    "image_ds = image_paths_ds.map(load_and_preprocess_image, num_parallel_calls=5)\n",
    "label_ds = label_paths_ds.map(load_and_preprocess_image, num_parallel_calls=5)"
   ]
  },
  {
   "cell_type": "code",
   "execution_count": 111,
   "metadata": {},
   "outputs": [],
   "source": [
    "train_data = tf.data.Dataset.from_tensor_slices(\n",
    "  (trainX, trainY)\n",
    ")"
   ]
  },
  {
   "cell_type": "code",
   "execution_count": 118,
   "metadata": {},
   "outputs": [],
   "source": [
    "model = tf.keras.Sequential([\n",
    "# Adds a densely-connected layer with 64 units to the model:\n",
    "layers.Dense(64, activation='relu', input_shape=(192,192)),\n",
    "# Add another:\n",
    "layers.Dense(64, activation='relu'),\n",
    "# Add a softmax layer with 10 output units:\n",
    "layers.Dense(1, activation='sigmoid')])\n",
    "\n",
    "model.compile(optimizer=tf.train.AdamOptimizer(0.001),\n",
    "              loss='categorical_crossentropy',\n",
    "              metrics=['accuracy'])"
   ]
  },
  {
   "cell_type": "code",
   "execution_count": 117,
   "metadata": {},
   "outputs": [],
   "source": [
    " \n"
   ]
  },
  {
   "cell_type": "code",
   "execution_count": null,
   "metadata": {},
   "outputs": [],
   "source": []
  }
 ],
 "metadata": {
  "kernelspec": {
   "display_name": "Python 3",
   "language": "python",
   "name": "python3"
  },
  "language_info": {
   "codemirror_mode": {
    "name": "ipython",
    "version": 3
   },
   "file_extension": ".py",
   "mimetype": "text/x-python",
   "name": "python",
   "nbconvert_exporter": "python",
   "pygments_lexer": "ipython3",
   "version": "3.6.8"
  }
 },
 "nbformat": 4,
 "nbformat_minor": 2
}
